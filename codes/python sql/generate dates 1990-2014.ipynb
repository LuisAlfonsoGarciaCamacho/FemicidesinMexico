{
 "cells": [
  {
   "cell_type": "code",
   "execution_count": 3,
   "metadata": {},
   "outputs": [
    {
     "name": "stdout",
     "output_type": "stream",
     "text": [
      "Archivo CSV creado exitosamente.\n"
     ]
    }
   ],
   "source": [
    "import pandas as pd\n",
    "\n",
    "# Crear un rango de fechas desde enero de 1990 hasta diciembre de 2014\n",
    "start_date = '1990-01-01'\n",
    "end_date = '2014-12-31'\n",
    "date_range = pd.date_range(start=start_date, end=end_date, freq='D')\n",
    "\n",
    "# Crear un DataFrame con la columna 'ds'\n",
    "df = pd.DataFrame({'ds': date_range})\n",
    "\n",
    "# Guardar el DataFrame en un archivo CSV\n",
    "df.to_csv('1990-2014.csv', index=False)\n",
    "df['ds'] = pd.to_datetime(df['ds'], format='%m/%d/%Y', errors='coerce')\n",
    "\n",
    "print(\"Archivo CSV creado exitosamente.\")\n"
   ]
  }
 ],
 "metadata": {
  "kernelspec": {
   "display_name": "Python 3",
   "language": "python",
   "name": "python3"
  },
  "language_info": {
   "codemirror_mode": {
    "name": "ipython",
    "version": 3
   },
   "file_extension": ".py",
   "mimetype": "text/x-python",
   "name": "python",
   "nbconvert_exporter": "python",
   "pygments_lexer": "ipython3",
   "version": "3.10.3"
  }
 },
 "nbformat": 4,
 "nbformat_minor": 2
}
