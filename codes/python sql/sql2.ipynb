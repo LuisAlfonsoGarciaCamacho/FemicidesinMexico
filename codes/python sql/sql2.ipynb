{
 "cells": [
  {
   "cell_type": "code",
   "execution_count": 11,
   "metadata": {},
   "outputs": [
    {
     "data": {
      "text/plain": [
       "4"
      ]
     },
     "execution_count": 11,
     "metadata": {},
     "output_type": "execute_result"
    }
   ],
   "source": [
    "import pandas as pd\n",
    "from sqlalchemy import create_engine\n",
    "from sqlalchemy.orm import sessionmaker\n",
    "database_url = 'mssql+pyodbc://(localdb)\\\\MSSQLLocalDB/defunciones?driver=ODBC+Driver+17+for+SQL+Server'\n",
    "engine = create_engine(database_url)\n",
    "with open(\"DEFUN12.csv\", 'r') as file:\n",
    "    data_df = pd.read_csv(file)\n",
    "data_df.to_sql('DEFUN12', con=engine, index=True, index_label='id', if_exists='replace')"
   ]
  },
  {
   "cell_type": "code",
   "execution_count": 12,
   "metadata": {},
   "outputs": [
    {
     "data": {
      "text/plain": [
       "17"
      ]
     },
     "execution_count": 12,
     "metadata": {},
     "output_type": "execute_result"
    }
   ],
   "source": [
    "import pandas as pd\n",
    "from sqlalchemy import create_engine\n",
    "from sqlalchemy.orm import sessionmaker\n",
    "database_url = 'mssql+pyodbc://(localdb)\\\\MSSQLLocalDB/defunciones?driver=ODBC+Driver+17+for+SQL+Server'\n",
    "engine = create_engine(database_url)\n",
    "with open(\"DEFUN14.csv\", 'r') as file:\n",
    "    data_df = pd.read_csv(file)\n",
    "data_df.to_sql('DEFUN14', con=engine, index=True, index_label='id', if_exists='replace')"
   ]
  },
  {
   "cell_type": "code",
   "execution_count": 13,
   "metadata": {},
   "outputs": [
    {
     "data": {
      "text/plain": [
       "20"
      ]
     },
     "execution_count": 13,
     "metadata": {},
     "output_type": "execute_result"
    }
   ],
   "source": [
    "import pandas as pd\n",
    "from sqlalchemy import create_engine\n",
    "from sqlalchemy.orm import sessionmaker\n",
    "database_url = 'mssql+pyodbc://(localdb)\\\\MSSQLLocalDB/defunciones?driver=ODBC+Driver+17+for+SQL+Server'\n",
    "engine = create_engine(database_url)\n",
    "with open(\"DEFUN16.csv\", 'r') as file:\n",
    "    data_df = pd.read_csv(file)\n",
    "data_df.to_sql('DEFUN16', con=engine, index=True, index_label='id', if_exists='replace')"
   ]
  },
  {
   "cell_type": "code",
   "execution_count": 14,
   "metadata": {},
   "outputs": [
    {
     "data": {
      "text/plain": [
       "9"
      ]
     },
     "execution_count": 14,
     "metadata": {},
     "output_type": "execute_result"
    }
   ],
   "source": [
    "import pandas as pd\n",
    "from sqlalchemy import create_engine\n",
    "from sqlalchemy.orm import sessionmaker\n",
    "database_url = 'mssql+pyodbc://(localdb)\\\\MSSQLLocalDB/defunciones?driver=ODBC+Driver+17+for+SQL+Server'\n",
    "engine = create_engine(database_url)\n",
    "with open(\"DEFUN18.csv\", 'r') as file:\n",
    "    data_df = pd.read_csv(file)\n",
    "data_df.to_sql('DEFUN18', con=engine, index=True, index_label='id', if_exists='replace')"
   ]
  },
  {
   "cell_type": "code",
   "execution_count": 15,
   "metadata": {},
   "outputs": [
    {
     "data": {
      "text/plain": [
       "1"
      ]
     },
     "execution_count": 15,
     "metadata": {},
     "output_type": "execute_result"
    }
   ],
   "source": [
    "import pandas as pd\n",
    "from sqlalchemy import create_engine\n",
    "from sqlalchemy.orm import sessionmaker\n",
    "database_url = 'mssql+pyodbc://(localdb)\\\\MSSQLLocalDB/defunciones?driver=ODBC+Driver+17+for+SQL+Server'\n",
    "engine = create_engine(database_url)\n",
    "with open(\"DEFUN20.csv\", 'r') as file:\n",
    "    data_df = pd.read_csv(file)\n",
    "data_df.to_sql('DEFUN20', con=engine, index=True, index_label='id', if_exists='replace')"
   ]
  },
  {
   "cell_type": "code",
   "execution_count": 17,
   "metadata": {},
   "outputs": [
    {
     "name": "stderr",
     "output_type": "stream",
     "text": [
      "C:\\Users\\luisg\\AppData\\Local\\Temp\\ipykernel_18132\\3687618902.py:7: DtypeWarning: Columns (72) have mixed types. Specify dtype option on import or set low_memory=False.\n",
      "  data_df = pd.read_csv(file)\n"
     ]
    },
    {
     "data": {
      "text/plain": [
       "24"
      ]
     },
     "execution_count": 17,
     "metadata": {},
     "output_type": "execute_result"
    }
   ],
   "source": [
    "import pandas as pd\n",
    "from sqlalchemy import create_engine\n",
    "from sqlalchemy.orm import sessionmaker\n",
    "database_url = 'mssql+pyodbc://(localdb)\\\\MSSQLLocalDB/defunciones?driver=ODBC+Driver+17+for+SQL+Server'\n",
    "engine = create_engine(database_url)\n",
    "with open(\"DEFUN22.dbf.csv\", 'r') as file:\n",
    "    data_df = pd.read_csv(file)\n",
    "data_df.to_sql('DEFUN22', con=engine, index=True, index_label='id', if_exists='replace')"
   ]
  },
  {
   "cell_type": "code",
   "execution_count": null,
   "metadata": {},
   "outputs": [
    {
     "data": {
      "text/plain": [
       "16"
      ]
     },
     "execution_count": 10,
     "metadata": {},
     "output_type": "execute_result"
    }
   ],
   "source": [
    "import pandas as pd\n",
    "from sqlalchemy import create_engine\n",
    "from sqlalchemy.orm import sessionmaker\n",
    "database_url = 'mssql+pyodbc://(localdb)\\\\MSSQLLocalDB/defunciones?driver=ODBC+Driver+17+for+SQL+Server'\n",
    "engine = create_engine(database_url)\n",
    "with open(\"DEFUN10.csv\", 'r') as file:\n",
    "    data_df = pd.read_csv(file)\n",
    "data_df.to_sql('DEFUN10', con=engine, index=True, index_label='id', if_exists='replace')"
   ]
  }
 ],
 "metadata": {
  "kernelspec": {
   "display_name": "Python 3",
   "language": "python",
   "name": "python3"
  },
  "language_info": {
   "codemirror_mode": {
    "name": "ipython",
    "version": 3
   },
   "file_extension": ".py",
   "mimetype": "text/x-python",
   "name": "python",
   "nbconvert_exporter": "python",
   "pygments_lexer": "ipython3",
   "version": "0.0.0"
  }
 },
 "nbformat": 4,
 "nbformat_minor": 2
}
