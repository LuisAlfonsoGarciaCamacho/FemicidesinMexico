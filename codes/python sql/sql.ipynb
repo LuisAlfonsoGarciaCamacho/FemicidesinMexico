{
 "cells": [
  {
   "cell_type": "code",
   "execution_count": 37,
   "metadata": {},
   "outputs": [
    {
     "name": "stderr",
     "output_type": "stream",
     "text": [
      "C:\\Users\\luisg\\AppData\\Local\\Temp\\ipykernel_8288\\4245763761.py:7: DtypeWarning: Columns (42) have mixed types. Specify dtype option on import or set low_memory=False.\n",
      "  data_df = pd.read_csv(file)\n"
     ]
    },
    {
     "data": {
      "text/plain": [
       "21"
      ]
     },
     "execution_count": 37,
     "metadata": {},
     "output_type": "execute_result"
    }
   ],
   "source": [
    "import pandas as pd\n",
    "from sqlalchemy import create_engine\n",
    "from sqlalchemy.orm import sessionmaker\n",
    "database_url = 'mssql+pyodbc://(localdb)\\\\MSSQLLocalDB/defunciones?driver=ODBC+Driver+17+for+SQL+Server'\n",
    "engine = create_engine(database_url)\n",
    "with open(\"DEFUN11.csv\", 'r') as file:\n",
    "    data_df = pd.read_csv(file)\n",
    "data_df.to_sql('DEFUN11', con=engine, index=True, index_label='id', if_exists='replace')"
   ]
  },
  {
   "cell_type": "code",
   "execution_count": 38,
   "metadata": {},
   "outputs": [
    {
     "data": {
      "text/plain": [
       "4"
      ]
     },
     "execution_count": 38,
     "metadata": {},
     "output_type": "execute_result"
    }
   ],
   "source": [
    "import pandas as pd\n",
    "from sqlalchemy import create_engine\n",
    "from sqlalchemy.orm import sessionmaker\n",
    "database_url = 'mssql+pyodbc://(localdb)\\\\MSSQLLocalDB/defunciones?driver=ODBC+Driver+17+for+SQL+Server'\n",
    "engine = create_engine(database_url)\n",
    "with open(\"DEFUN12.csv\", 'r') as file:\n",
    "    data_df = pd.read_csv(file)\n",
    "data_df.to_sql('DEFUN12', con=engine, index=True, index_label='id', if_exists='replace')"
   ]
  },
  {
   "cell_type": "code",
   "execution_count": 39,
   "metadata": {},
   "outputs": [
    {
     "name": "stderr",
     "output_type": "stream",
     "text": [
      "C:\\Users\\luisg\\AppData\\Local\\Temp\\ipykernel_8288\\2905973803.py:7: DtypeWarning: Columns (42,50) have mixed types. Specify dtype option on import or set low_memory=False.\n",
      "  data_df = pd.read_csv(file)\n"
     ]
    },
    {
     "data": {
      "text/plain": [
       "5"
      ]
     },
     "execution_count": 39,
     "metadata": {},
     "output_type": "execute_result"
    }
   ],
   "source": [
    "import pandas as pd\n",
    "from sqlalchemy import create_engine\n",
    "from sqlalchemy.orm import sessionmaker\n",
    "database_url = 'mssql+pyodbc://(localdb)\\\\MSSQLLocalDB/defunciones?driver=ODBC+Driver+17+for+SQL+Server'\n",
    "engine = create_engine(database_url)\n",
    "with open(\"DEFUN13.csv\", 'r') as file:\n",
    "    data_df = pd.read_csv(file)\n",
    "data_df.to_sql('DEFUN13', con=engine, index=True, index_label='id', if_exists='replace')"
   ]
  },
  {
   "cell_type": "code",
   "execution_count": 40,
   "metadata": {},
   "outputs": [
    {
     "data": {
      "text/plain": [
       "32"
      ]
     },
     "execution_count": 40,
     "metadata": {},
     "output_type": "execute_result"
    }
   ],
   "source": [
    "import pandas as pd\n",
    "from sqlalchemy import create_engine\n",
    "from sqlalchemy.orm import sessionmaker\n",
    "database_url = 'mssql+pyodbc://(localdb)\\\\MSSQLLocalDB/defunciones?driver=ODBC+Driver+17+for+SQL+Server'\n",
    "engine = create_engine(database_url)\n",
    "with open(\"DEFUN15.csv\", 'r') as file:\n",
    "    data_df = pd.read_csv(file)\n",
    "data_df.to_sql('DEFUN15', con=engine, index=True, index_label='id', if_exists='replace')"
   ]
  },
  {
   "cell_type": "code",
   "execution_count": 41,
   "metadata": {},
   "outputs": [
    {
     "data": {
      "text/plain": [
       "29"
      ]
     },
     "execution_count": 41,
     "metadata": {},
     "output_type": "execute_result"
    }
   ],
   "source": [
    "import pandas as pd\n",
    "from sqlalchemy import create_engine\n",
    "from sqlalchemy.orm import sessionmaker\n",
    "database_url = 'mssql+pyodbc://(localdb)\\\\MSSQLLocalDB/defunciones?driver=ODBC+Driver+17+for+SQL+Server'\n",
    "engine = create_engine(database_url)\n",
    "with open(\"DEFUN17.csv\", 'r') as file:\n",
    "    data_df = pd.read_csv(file)\n",
    "data_df.to_sql('DEFUN17', con=engine, index=True, index_label='id', if_exists='replace')"
   ]
  },
  {
   "cell_type": "code",
   "execution_count": 42,
   "metadata": {},
   "outputs": [
    {
     "data": {
      "text/plain": [
       "22"
      ]
     },
     "execution_count": 42,
     "metadata": {},
     "output_type": "execute_result"
    }
   ],
   "source": [
    "import pandas as pd\n",
    "from sqlalchemy import create_engine\n",
    "from sqlalchemy.orm import sessionmaker\n",
    "database_url = 'mssql+pyodbc://(localdb)\\\\MSSQLLocalDB/defunciones?driver=ODBC+Driver+17+for+SQL+Server'\n",
    "engine = create_engine(database_url)\n",
    "with open(\"DEFUN19.csv\", 'r') as file:\n",
    "    data_df = pd.read_csv(file)\n",
    "data_df.to_sql('DEFUN19', con=engine, index=True, index_label='id', if_exists='replace')"
   ]
  },
  {
   "cell_type": "code",
   "execution_count": 45,
   "metadata": {},
   "outputs": [
    {
     "data": {
      "text/plain": [
       "11"
      ]
     },
     "execution_count": 45,
     "metadata": {},
     "output_type": "execute_result"
    }
   ],
   "source": [
    "import pandas as pd\n",
    "from sqlalchemy import create_engine\n",
    "from sqlalchemy.orm import sessionmaker\n",
    "database_url = 'mssql+pyodbc://(localdb)\\\\MSSQLLocalDB/defunciones?driver=ODBC+Driver+17+for+SQL+Server'\n",
    "engine = create_engine(database_url)\n",
    "with open(\"defun21.dbf.csv\", 'r') as file:\n",
    "    data_df = pd.read_csv(file)\n",
    "data_df.to_sql('DEFUN21', con=engine, index=True, index_label='id', if_exists='replace')"
   ]
  }
 ],
 "metadata": {
  "kernelspec": {
   "display_name": "Python 3",
   "language": "python",
   "name": "python3"
  },
  "language_info": {
   "codemirror_mode": {
    "name": "ipython",
    "version": 3
   },
   "file_extension": ".py",
   "mimetype": "text/x-python",
   "name": "python",
   "nbconvert_exporter": "python",
   "pygments_lexer": "ipython3",
   "version": "0.0.0"
  }
 },
 "nbformat": 4,
 "nbformat_minor": 2
}
